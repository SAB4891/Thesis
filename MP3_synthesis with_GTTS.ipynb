{
 "cells": [
  {
   "cell_type": "markdown",
   "metadata": {},
   "source": [
    "## MP3 synthesis with GTTS "
   ]
  },
  {
   "cell_type": "code",
   "execution_count": null,
   "metadata": {},
   "outputs": [],
   "source": [
    "#RETREIVE ALL ANNOTATIONS FROM THE MSCOCO validation Dataset\n",
    "\n",
    "import json\n",
    "with open('captions_val2017.json') as data_file_val:    \n",
    "    data_val = json.load(data_file_val)\n",
    "\n",
    "annotations = data_val['annotations']"
   ]
  },
  {
   "cell_type": "code",
   "execution_count": null,
   "metadata": {},
   "outputs": [],
   "source": [
    "#RETREIVE UNIQUE IMAGES ID\n",
    "image_ID=[]\n",
    "for element in annotations:\n",
    "    image_ID.append(element['image_id'])\n",
    "    \n",
    "\n",
    "\n",
    "#UNIQUE IMAGES ID \n",
    "unique_images_ID=[]\n",
    "for element in image_ID:\n",
    "    if element in unique_images_ID:\n",
    "        continue\n",
    "    else:\n",
    "        unique_images_ID.append(element)"
   ]
  },
  {
   "cell_type": "code",
   "execution_count": null,
   "metadata": {},
   "outputs": [],
   "source": [
    "#RETREIVE ALL CAPTIONS IN A DICTIONARY (KEY: IMAGE ID- VALUE : LIST OF 5 CAPTIONS/IMAGE)\n",
    "captions_dict ={}\n",
    "def retrieve_caps(mylist):    \n",
    "    for element in mylist:\n",
    "        if element['image_id'] not in captions_dict:\n",
    "            captions_dict[element['image_id']] =[element['caption']]\n",
    "        else:\n",
    "            captions_dict[element['image_id']].append(element['caption'])\n",
    "    return len(captions_dict)"
   ]
  },
  {
   "cell_type": "code",
   "execution_count": null,
   "metadata": {},
   "outputs": [],
   "source": [
    "#RETREIVE ALL CAPTIONS (LIST OF LISTS- 5 CAPTIONS/list in a LIST)\n",
    "\n",
    "captions=[] \n",
    "\n",
    "for key in captions_dict:\n",
    "    captions.append(captions_dict[key])"
   ]
  },
  {
   "cell_type": "code",
   "execution_count": null,
   "metadata": {},
   "outputs": [],
   "source": [
    "#EXTRACT CAPTIONS CATEGORIES AND CREATE A LIST OF LISTS WITH THE PHRASE THAT HAVE THE CATEGORY OF CHOICE \n",
    "#UNIQUE OF EACH IMAGE AND WITH THE WORD OF CHOICE AT THE END OF THE SENTENCE. \n",
    "cat_list=[]\n",
    "def retrieve_cat(a:list,b:str):\n",
    "    for element in a:\n",
    "        count=0\n",
    "        for phrase in element:\n",
    "            wordlist = phrase.split()\n",
    "            if b in wordlist and count<1 and (len(wordlist) == 8 or len(wordlist) == 9) and (wordlist.index(b) == 8 or wordlist.index(b) == 7 or wordlist.index(b) == 6 or wordlist.index(b) == 5):\n",
    "                count=count+1\n",
    "                cat_list.append(wordlist)\n",
    "    return(len(cat_list))\n"
   ]
  },
  {
   "cell_type": "code",
   "execution_count": null,
   "metadata": {},
   "outputs": [],
   "source": [
    "#extract 4 random captions, and convert them to mp3s \n",
    "import numpy as np\n",
    "from gtts import gTTS\n",
    "\n",
    "final=[]\n",
    "def convert(a:list, b:str):\n",
    "    r = np.random.choice(a,4,False)\n",
    "    for element in r:\n",
    "        final.append(' '.join(element))\n",
    "    for k in captions_dict:\n",
    "        value = captions_dict.get(k)\n",
    "        for sentence in final:\n",
    "            if sentence in value:\n",
    "                tts = gTTS(sentence, lang='en')\n",
    "                tts.save(b+'_'+'_'+str(k)+'.mp3')\n",
    "    \n",
    "    return(final)\n",
    "    \n",
    "    \n",
    "    \n",
    "    gan=[]\n",
    "def ganong(a:list, b:str):\n",
    "    for k in captions_dict:\n",
    "        value = captions_dict.get(k)\n",
    "        for sentence in final:\n",
    "            if sentence in value:\n",
    "                new = sentence.replace('dog',b)\n",
    "                gan.append(new)\n",
    "                tts = gTTS(new, lang='en')\n",
    "                tts.save(b+'_'+'_'+str(k)+'.mp3')    \n",
    "    return(gan)\n",
    "\n",
    "print(ganong(final,'tog'))"
   ]
  }
 ],
 "metadata": {
  "kernelspec": {
   "display_name": "Python 3",
   "language": "python",
   "name": "python3"
  },
  "language_info": {
   "codemirror_mode": {
    "name": "ipython",
    "version": 3
   },
   "file_extension": ".py",
   "mimetype": "text/x-python",
   "name": "python",
   "nbconvert_exporter": "python",
   "pygments_lexer": "ipython3",
   "version": "3.6.9"
  }
 },
 "nbformat": 4,
 "nbformat_minor": 2
}
